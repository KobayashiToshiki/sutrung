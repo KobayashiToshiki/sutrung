{
 "cells": [
  {
   "cell_type": "code",
   "execution_count": 5,
   "metadata": {},
   "outputs": [
    {
     "ename": "ModuleNotFoundError",
     "evalue": "No module named 'matplotlib'",
     "output_type": "error",
     "traceback": [
      "\u001b[0;31m---------------------------------------------------------------------------\u001b[0m",
      "\u001b[0;31mModuleNotFoundError\u001b[0m                       Traceback (most recent call last)",
      "\u001b[0;32m<ipython-input-5-120b3641eb36>\u001b[0m in \u001b[0;36m<module>\u001b[0;34m()\u001b[0m\n\u001b[1;32m      5\u001b[0m \u001b[0;32mfrom\u001b[0m \u001b[0mscipy\u001b[0m \u001b[0;32mimport\u001b[0m \u001b[0mintegrate\u001b[0m\u001b[0;34m\u001b[0m\u001b[0m\n\u001b[1;32m      6\u001b[0m \u001b[0;32mimport\u001b[0m \u001b[0mmath\u001b[0m\u001b[0;34m\u001b[0m\u001b[0m\n\u001b[0;32m----> 7\u001b[0;31m \u001b[0;32mfrom\u001b[0m \u001b[0mmatplotlib\u001b[0m \u001b[0;32mimport\u001b[0m \u001b[0mpyplot\u001b[0m \u001b[0;32mas\u001b[0m \u001b[0mplt\u001b[0m\u001b[0;34m\u001b[0m\u001b[0m\n\u001b[0m\u001b[1;32m      8\u001b[0m \u001b[0;32mfrom\u001b[0m \u001b[0mscipy\u001b[0m \u001b[0;32mimport\u001b[0m \u001b[0msignal\u001b[0m\u001b[0;34m,\u001b[0m \u001b[0minterpolate\u001b[0m\u001b[0;34m\u001b[0m\u001b[0m\n\u001b[1;32m      9\u001b[0m \u001b[0;32mimport\u001b[0m \u001b[0mscipy\u001b[0m\u001b[0;34m.\u001b[0m\u001b[0mlinalg\u001b[0m \u001b[0;32mas\u001b[0m \u001b[0mlinalg\u001b[0m\u001b[0;34m\u001b[0m\u001b[0m\n",
      "\u001b[0;31mModuleNotFoundError\u001b[0m: No module named 'matplotlib'"
     ]
    }
   ],
   "source": [
    "import numpy as np\n",
    "import scipy \n",
    "import scipy.sparse as sp\n",
    "from scipy.linalg import toeplitz\n",
    "from scipy import integrate\n",
    "import math\n",
    "from matplotlib import pyplot as plt\n",
    "from scipy import signal, interpolate\n",
    "import scipy.linalg as linalg\n",
    "from sympy import *\n",
    "%pylab inline --no-import-all"
   ]
  },
  {
   "cell_type": "code",
   "execution_count": 6,
   "metadata": {},
   "outputs": [
    {
     "name": "stdout",
     "output_type": "stream",
     "text": [
      "[[ 2 -1  0 -1]\n",
      " [-1  2 -1  0]\n",
      " [ 0 -1  2 -1]\n",
      " [-1  0 -1  2]]\n",
      "[[ 1.  0.  0.  0.]\n",
      " [ 0.  1.  0.  0.]\n",
      " [ 0.  0.  1.  0.]\n",
      " [ 0.  0.  0. -1.]]\n",
      "[[ 2. -1.  0. -1.]\n",
      " [-1.  2. -1.  0.]\n",
      " [ 0. -1.  2. -1.]\n",
      " [ 1.  0.  1. -2.]]\n",
      "-8.881784197e-16\n"
     ]
    }
   ],
   "source": [
    "C4 = toeplitz([2,-1,0,0], [0,-1,0,0])\n",
    "C4[3,0] = -1\n",
    "C4[0,3] = -1 \n",
    "C4\n",
    "n = np.eye(4)\n",
    "n[3,3] = -1\n",
    "CC4 = np.dot(n,C4)\n",
    "print(C4)\n",
    "print(n)\n",
    "print(CC4)\n",
    "\n",
    "print(np.linalg.det(CC4))"
   ]
  },
  {
   "cell_type": "code",
   "execution_count": 7,
   "metadata": {
    "collapsed": true
   },
   "outputs": [],
   "source": [
    "K4 = toeplitz([2,-1,0,0], [0,-1,0,0])\n",
    "K5 = toeplitz([2,-1,0,0,0], [0,-1,0,0,0])\n",
    "K6 = toeplitz([2,-1,0,0,0,0], [0,-1,0,0,0,0])\n",
    "\n",
    "\n",
    "T4 = toeplitz([2,-1,0,0], [0,-1,0,0])\n",
    "T4[0,0] = 1\n",
    "\n",
    "C4 = toeplitz([2,-1,0,0], [0,-1,0,0])\n",
    "C4[3,0] = -1\n",
    "C4[0,3] = -1 \n",
    "C4\n",
    "\n",
    "B4 = toeplitz([2,-1,0,0], [0,-1,0,0])\n",
    "B4[0,0]= 1\n",
    "B4[3,3]= 1\n",
    "B5 = toeplitz([2,-1,0,0,0], [0,-1,0,0,0])\n",
    "B5[0,0]= 1\n",
    "B5[4,4]= 1"
   ]
  },
  {
   "cell_type": "markdown",
   "metadata": {},
   "source": [
    "## 問題1-4-1\n",
    "\n",
    "$-u'' = δ（x-a）$の解は点荷重の両側で線形でなければならない.  \n",
    "$u(0) = 2$ ,$u(1) = 4$ の場合、次の定数A,B,C,Dを決める４つの条件は何か？  \n",
    "  \n",
    "$u(x) = Ax + B$ ($0<x<a$のとき)  \n",
    "and  \n",
    "$u(x) = Cx + D$ ($a<x<1$のとき) \n",
    "\n",
    "### 解答\n",
    "$u(x) = -1x + 2$ ($0<x<a$のとき)  \n",
    "$u(x) = -2x + 2$ ($a<x<1$のとき) "
   ]
  },
  {
   "cell_type": "code",
   "execution_count": 1,
   "metadata": {},
   "outputs": [
    {
     "name": "stdout",
     "output_type": "stream",
     "text": [
      "u(x) = Ax + B (0<x<a) \n",
      "u(x) = Cx + D (a<x<1) \n",
      "A,B,C,Dを決める４つの条件\n",
      "u(0) = B = 2\n",
      "u(1) = C + D = 0\n",
      "u(a) = Aa + B = Ca + D\n",
      "A = C + 1\n"
     ]
    }
   ],
   "source": [
    "#1-4-1\n",
    "\n",
    "print('u(x) = Ax + B (0<x<a) ')\n",
    "print('u(x) = Cx + D (a<x<1) ')\n",
    "\n",
    "print('A,B,C,Dを決める４つの条件')\n",
    "print('u(0) = B = 2')#固定端での条件\n",
    "print('u(1) = C + D = 0')#固定端での条件\n",
    "print('u(a) = Aa + B = Ca + D')#aの点であるという条件\n",
    "print('A = C + 1')#傾きが−１される条件"
   ]
  },
  {
   "cell_type": "markdown",
   "metadata": {},
   "source": [
    "## 問題1-4-2\n",
    "\n",
    "問題１を自由端-固定端　$u'(0) = 0 , u(1) = 4$の場合に変更せよ。  \n",
    "A,B,C,Dを決める４つの方程式を見つけてとけ。\n",
    "\n",
    "### 解答\n",
    "$u(x) =  5$ ($0<x<a$のとき)  \n",
    "$u(x) = -x + 5+a$ ($a<x<1$のとき) "
   ]
  },
  {
   "cell_type": "code",
   "execution_count": 2,
   "metadata": {},
   "outputs": [
    {
     "name": "stdout",
     "output_type": "stream",
     "text": [
      "u(x) = Ax + B (0<x<a) \n",
      "u(x) = Cx + D (a<x<1) \n",
      "A,B,C,Dを決める４つの条件\n",
      "u’(0) = A = 0\n",
      "u(1) = C + D = 4\n",
      "u(a) = Aa + B = Ca + D\n",
      "A = C + 1\n",
      "A = 0,B = -a + 5,C = -1,D = 5\n"
     ]
    }
   ],
   "source": [
    "print('u(x) = Ax + B (0<x<a) ')\n",
    "print('u(x) = Cx + D (a<x<1) ')\n",
    "\n",
    "print('A,B,C,Dを決める４つの条件')\n",
    "print('u’(0) = A = 0')#自由端での条件\n",
    "print('u(1) = C + D = 4')#固定端での条件\n",
    "print('u(a) = Aa + B = Ca + D')#aの点であるという条件\n",
    "print('A = C + 1')#傾きが−１される条件\n",
    "print('A = 0,B = -a + 5,C = -1,D = 5')"
   ]
  },
  {
   "cell_type": "markdown",
   "metadata": {},
   "source": [
    "## 問題1-4-3\n",
    "\n",
    "点$a = 1/3 とb = 2/3 $に二つの点荷重があるとするとき、このとき、固定端-固定端の問題を２つの方法で解け。  \n",
    "第１の方法では、それぞれの点荷重に対する２うの解を組み合わせよ。  \n",
    "第2の方法では,次のA,B,C,D,E,Fに対する６個の条件を見つけよ。  \n",
    "  \n",
    "$u(x) = Ax + B (0<x<1/3のとき)$  \n",
    "$u(x) = Cx + D (1/3<x<2/3のとき)$  \n",
    "$u(x) = Ex + F (2/3<x<1のとき)$\n",
    "\n",
    "### 解答\n",
    "$u(x) = x  　(0<x<1/3のとき)$  \n",
    "$u(x) = 1/3 　(1/3<x<2/3のとき)$  \n",
    "$u(x) = -x + 1 　(2/3<x<1のとき)$"
   ]
  },
  {
   "cell_type": "code",
   "execution_count": 8,
   "metadata": {},
   "outputs": [
    {
     "name": "stdout",
     "output_type": "stream",
     "text": [
      "[ 0.66666667  1.33333333  1.          0.66666667  0.33333333]\n",
      "[ 0.33333333  0.66666667  1.          1.33333333  0.66666667]\n",
      "[ 0.          0.16666667  0.33333333  0.33333333  0.33333333  0.16666667\n",
      "  0.        ]\n"
     ]
    },
    {
     "ename": "NameError",
     "evalue": "name 'plt' is not defined",
     "output_type": "error",
     "traceback": [
      "\u001b[0;31m---------------------------------------------------------------------------\u001b[0m",
      "\u001b[0;31mNameError\u001b[0m                                 Traceback (most recent call last)",
      "\u001b[0;32m<ipython-input-8-7dcd7aa2b944>\u001b[0m in \u001b[0;36m<module>\u001b[0;34m()\u001b[0m\n\u001b[1;32m     17\u001b[0m \u001b[0mU\u001b[0m \u001b[0;34m=\u001b[0m \u001b[0mnp\u001b[0m\u001b[0;34m.\u001b[0m\u001b[0minsert\u001b[0m\u001b[0;34m(\u001b[0m\u001b[0mU\u001b[0m\u001b[0;34m,\u001b[0m\u001b[0;36m0\u001b[0m\u001b[0;34m,\u001b[0m\u001b[0;36m0\u001b[0m\u001b[0;34m)\u001b[0m\u001b[0;34m\u001b[0m\u001b[0m\n\u001b[1;32m     18\u001b[0m \u001b[0mprint\u001b[0m\u001b[0;34m(\u001b[0m\u001b[0mU\u001b[0m\u001b[0;34m)\u001b[0m\u001b[0;34m\u001b[0m\u001b[0m\n\u001b[0;32m---> 19\u001b[0;31m \u001b[0mplt\u001b[0m\u001b[0;34m.\u001b[0m\u001b[0mplot\u001b[0m\u001b[0;34m(\u001b[0m\u001b[0mU\u001b[0m\u001b[0;34m)\u001b[0m\u001b[0;34m\u001b[0m\u001b[0m\n\u001b[0m",
      "\u001b[0;31mNameError\u001b[0m: name 'plt' is not defined"
     ]
    }
   ],
   "source": [
    "inv_K5 = np.linalg.inv(K5)\n",
    "f = np.array([0,1,0,1,0])\n",
    "u = np.dot(inv_K5,f)\n",
    "# print(u)\n",
    "# print(6*inv_K5)\n",
    "\n",
    "f1 = np.array([0,1,0,0,0])\n",
    "u1 = np.dot(inv_K5,f1)\n",
    "print(u1)\n",
    "\n",
    "f2 = np.array([0,0,0,1,0])\n",
    "u2 = np.dot(inv_K5,f2)\n",
    "print(u2)\n",
    "\n",
    "U = (u1 + u2)/6\n",
    "U = np.append(U,[0])\n",
    "U = np.insert(U,0,0)\n",
    "print(U)\n",
    "plt.plot(U)"
   ]
  },
  {
   "cell_type": "code",
   "execution_count": 9,
   "metadata": {},
   "outputs": [
    {
     "name": "stdout",
     "output_type": "stream",
     "text": [
      "u(x) = Ax + B (0<x<1/3) \n",
      "u(x) = Cx + D (1/3<x<2/3) \n",
      "u(x) = Ex + F (2/3<x<1) \n",
      "両方の固定端を０とする\n",
      "A,B,C,D,E,Fを決める6つの条件\n",
      "u(0) = B = 0\n",
      "u(1) = E + F = 0\n",
      "u(1/3) = 1/3*A + B = 1/3*C + D\n",
      "A = C + 1\n",
      "u(2/3) = 2/3*C + D = 2/3*E + F\n",
      "C = E + 1\n"
     ]
    }
   ],
   "source": [
    "#1-4-3\n",
    "print('u(x) = Ax + B (0<x<1/3) ')\n",
    "print('u(x) = Cx + D (1/3<x<2/3) ')\n",
    "print('u(x) = Ex + F (2/3<x<1) ')\n",
    "print('両方の固定端を０とする')\n",
    "print('A,B,C,D,E,Fを決める6つの条件')\n",
    "print('u(0) = B = 0')#固定端での条件\n",
    "print('u(1) = E + F = 0')#固定端での条件\n",
    "print('u(1/3) = 1/3*A + B = 1/3*C + D')#1/3の点で連続あるという条件\n",
    "print('A = C + 1')#傾きが−１される条件\n",
    "print('u(2/3) = 2/3*C + D = 2/3*E + F')#2/3の点で連続あるという条件\n",
    "print('C = E + 1')#傾きが−１される条件\n"
   ]
  },
  {
   "cell_type": "markdown",
   "metadata": {},
   "source": [
    "## 問題1-4-4\n",
    "\n",
    "方程式を固定端-自由端の境界条件u(0) = 0, n'(1) = 0 の元で解け  \n",
    "u(x)とu'(x)のグラフを描け\n",
    "\n",
    "### 解答\n",
    "$u(x) = x  $ ($0<x<a$のとき)  \n",
    "$u(x) = a $ ($a<x<1$のとき) "
   ]
  },
  {
   "cell_type": "code",
   "execution_count": 3,
   "metadata": {},
   "outputs": [
    {
     "name": "stdout",
     "output_type": "stream",
     "text": [
      "u(x) = Ax + B (0<x<a) \n",
      "u(x) = Cx + D (a<x<1) \n",
      "A,B,C,Dを決める４つの条件\n",
      "u(0) = B = 0\n",
      "u’(1) = C = 0\n",
      "u(a) = Aa + B = Ca + D\n",
      "A = C + 1\n"
     ]
    },
    {
     "ename": "NameError",
     "evalue": "name 'toeplitz' is not defined",
     "output_type": "error",
     "traceback": [
      "\u001b[0;31m---------------------------------------------------------------------------\u001b[0m",
      "\u001b[0;31mNameError\u001b[0m                                 Traceback (most recent call last)",
      "\u001b[0;32m<ipython-input-3-7559c8159159>\u001b[0m in \u001b[0;36m<module>\u001b[0;34m()\u001b[0m\n\u001b[1;32m     10\u001b[0m \u001b[0;34m\u001b[0m\u001b[0m\n\u001b[1;32m     11\u001b[0m \u001b[0;34m\u001b[0m\u001b[0m\n\u001b[0;32m---> 12\u001b[0;31m \u001b[0mT5\u001b[0m \u001b[0;34m=\u001b[0m \u001b[0mtoeplitz\u001b[0m\u001b[0;34m(\u001b[0m\u001b[0;34m[\u001b[0m\u001b[0;36m2\u001b[0m\u001b[0;34m,\u001b[0m\u001b[0;34m-\u001b[0m\u001b[0;36m1\u001b[0m\u001b[0;34m,\u001b[0m\u001b[0;36m0\u001b[0m\u001b[0;34m,\u001b[0m\u001b[0;36m0\u001b[0m\u001b[0;34m,\u001b[0m\u001b[0;36m0\u001b[0m\u001b[0;34m]\u001b[0m\u001b[0;34m,\u001b[0m \u001b[0;34m[\u001b[0m\u001b[0;36m0\u001b[0m\u001b[0;34m,\u001b[0m\u001b[0;34m-\u001b[0m\u001b[0;36m1\u001b[0m\u001b[0;34m,\u001b[0m\u001b[0;36m0\u001b[0m\u001b[0;34m,\u001b[0m\u001b[0;36m0\u001b[0m\u001b[0;34m,\u001b[0m\u001b[0;36m0\u001b[0m\u001b[0;34m]\u001b[0m\u001b[0;34m)\u001b[0m\u001b[0;34m\u001b[0m\u001b[0m\n\u001b[0m\u001b[1;32m     13\u001b[0m \u001b[0mT5\u001b[0m\u001b[0;34m[\u001b[0m\u001b[0;36m4\u001b[0m\u001b[0;34m,\u001b[0m\u001b[0;36m4\u001b[0m\u001b[0;34m]\u001b[0m \u001b[0;34m=\u001b[0m \u001b[0;36m1\u001b[0m\u001b[0;34m\u001b[0m\u001b[0m\n\u001b[1;32m     14\u001b[0m \u001b[0minv_T5\u001b[0m \u001b[0;34m=\u001b[0m \u001b[0mnp\u001b[0m\u001b[0;34m.\u001b[0m\u001b[0mlinalg\u001b[0m\u001b[0;34m.\u001b[0m\u001b[0minv\u001b[0m\u001b[0;34m(\u001b[0m\u001b[0mT5\u001b[0m\u001b[0;34m)\u001b[0m\u001b[0;34m\u001b[0m\u001b[0m\n",
      "\u001b[0;31mNameError\u001b[0m: name 'toeplitz' is not defined"
     ]
    }
   ],
   "source": [
    "# 1-4-4\n",
    "print('u(x) = Ax + B (0<x<a) ')\n",
    "print('u(x) = Cx + D (a<x<1) ')\n",
    "\n",
    "print('A,B,C,Dを決める４つの条件')\n",
    "print('u(0) = B = 0')#固定端での条件\n",
    "print('u’(1) = C = 0')#自由端での条件\n",
    "print('u(a) = Aa + B = Ca + D')#aの点であるという条件\n",
    "print('A = C + 1')#傾きが−１される条件\n",
    "\n",
    "\n",
    "T5 = toeplitz([2,-1,0,0,0], [0,-1,0,0,0])\n",
    "T5[4,4] = 1\n",
    "inv_T5 = np.linalg.inv(T5)\n",
    "f_4 = np.array([0,1,0,0,0])\n",
    "U_4= np.dot(inv_T5,f_4)\n",
    "U_4 = np.insert(U_4,0,0)\n",
    "U_4 = np.append(U_4,[2])\n",
    "U_4 = U_4/6\n",
    "print(U_4)\n",
    "plt.plot(U_4)"
   ]
  },
  {
   "cell_type": "markdown",
   "metadata": {},
   "source": [
    "## 問題1-4-5\n",
    "\n",
    "同じ自由端-固定端の条件$u'(0) = 0, n'(1) = 0$ の条件を課すと、解が存在しないことを示せ。  \n",
    "CとDに対する連立方程式は解を持たない。これは得意な行列Bに対応する"
   ]
  },
  {
   "cell_type": "code",
   "execution_count": 10,
   "metadata": {},
   "outputs": [
    {
     "name": "stdout",
     "output_type": "stream",
     "text": [
      "u(x) = Ax + B (0<x<a) \n",
      "u(x) = Cx + D (a<x<1) \n",
      "A,B,C,Dを決める４つの条件\n",
      "u’(0) = B = 0\n",
      "u’(1) = D = 0\n",
      "u(a) = Aa + B = Ca + D\n",
      "A = C + 1\n",
      "[[ 1 -1  0  0]\n",
      " [-1  2 -1  0]\n",
      " [ 0 -1  2 -1]\n",
      " [ 0  0 -1  1]]\n",
      "0.0\n"
     ]
    }
   ],
   "source": [
    "#1-4-5\n",
    "print('u(x) = Ax + B (0<x<a) ')\n",
    "print('u(x) = Cx + D (a<x<1) ')\n",
    "\n",
    "print('A,B,C,Dを決める４つの条件')\n",
    "print('u’(0) = B = 0')#固定端での条件\n",
    "print('u’(1) = D = 0')#自由端での条件\n",
    "print('u(a) = Aa + B = Ca + D')#aの点であるという条件\n",
    "print('A = C + 1')#傾きが−１される条件\n",
    "\n",
    "\n",
    "print(B4)\n",
    "print(np.linalg.det(B4))"
   ]
  },
  {
   "cell_type": "markdown",
   "metadata": {},
   "source": [
    "## 問題1-4-6\n",
    "\n",
    "\n",
    "$-u'' = δ（x-a）$は周期的境界条件$u(0) = u(1),u'(0) = u'(1)$の下では解を持たないことを示せ.  \n",
    "これは特異な巡回行列Cに対応する。"
   ]
  },
  {
   "cell_type": "code",
   "execution_count": 11,
   "metadata": {},
   "outputs": [
    {
     "name": "stdout",
     "output_type": "stream",
     "text": [
      "[[ 2 -1  0 -1]\n",
      " [-1  2 -1  0]\n",
      " [ 0 -1  2 -1]\n",
      " [-1  0 -1  2]]\n",
      "8.881784197e-16\n",
      "巡回行列は特異な行列なので解を持たない\n"
     ]
    }
   ],
   "source": [
    "#1-4-6\n",
    "print(C4)\n",
    "print(np.linalg.det(C4))\n",
    "print('巡回行列は特異な行列なので解を持たない')"
   ]
  },
  {
   "cell_type": "markdown",
   "metadata": {},
   "source": [
    "##  問題1-4-7\n",
    "\n",
    "点荷重を変えて$f(x)=δ(x-1/3)-δ(x-2/3)$とすると、$-u'' = f(x)$は自由端-固定端の境界条件の元でも解をもつことを示せ。  \n",
    "$u'(0)=0,u'(1)=0$として無限に多くの解を求めよ\n",
    "\n",
    "\n",
    "### 解答\n",
    "\n",
    "方程式を解くと$A=0,E=0$  \n",
    "$A=C+1,E=C+１$→$C=-1$  \n",
    "$B  = a+ D$  \n",
    "$F = b+ D$\n",
    "\n",
    "Dの値を決めることでBとFの値が決まる。  \n",
    "そしてDの値は任意の値を代入できるので、それぞれの任意のDに対応したB、Fの解が存在する。  \n",
    "なので解は無限に存在する。"
   ]
  },
  {
   "cell_type": "code",
   "execution_count": 12,
   "metadata": {},
   "outputs": [
    {
     "name": "stdout",
     "output_type": "stream",
     "text": [
      "u(x) = Ax + B (0<x<1/3) \n",
      "u(x) = Cx + D (1/3<x<2/3) \n",
      "u(x) = Ex + F (2/3<x<1) \n",
      "両方の固定端を０とする\n",
      "A,B,C,D,E,Fを決める6つの条件\n",
      "u’(0) = A = 0\n",
      "u’(１) = E = 0\n",
      "u(a) = a*A + B = a*C + D\n",
      "A = C + 1\n",
      "u(b) = b*C + D = b*E + F\n",
      "C = E - 1\n"
     ]
    }
   ],
   "source": [
    "#1-4-7\n",
    "\n",
    "print('u(x) = Ax + B (0<x<1/3) ')\n",
    "print('u(x) = Cx + D (1/3<x<2/3) ')\n",
    "print('u(x) = Ex + F (2/3<x<1) ')\n",
    "print('両方の固定端を０とする')\n",
    "print('A,B,C,D,E,Fを決める6つの条件')\n",
    "print('u’(0) = A = 0')#固定端での条件\n",
    "print('u’(１) = E = 0')#固定端での条件\n",
    "print('u(a) = a*A + B = a*C + D')#1/3の点で連続あるという条件\n",
    "print('A = C + 1')#傾きが−１される条件\n",
    "print('u(b) = b*C + D = b*E + F')#2/3の点で連続あるという条件\n",
    "print('C = E - 1')#傾きが−１される条件\n"
   ]
  },
  {
   "cell_type": "code",
   "execution_count": null,
   "metadata": {
    "collapsed": true
   },
   "outputs": [],
   "source": [
    "#1-4-7\n",
    "\n",
    "print('u(x) = Ax + B (0<x<a) ')\n",
    "print('u(x) = Cx + D (a<x<1) ')\n",
    "\n",
    "print('A,B,C,Dを決める４つの条件')\n",
    "print('u’(0) = A = 0')#固定端での条件\n",
    "print('u’(1) = C  = 0')#固定端での条件\n",
    "print('u(a) = Aa + B = Ca + D')#aの点であるという条件\n",
    "print('A = C + 1')#傾きが−１される条件\n",
    "\n",
    "\n",
    "\n",
    "#それぞれを計算しても解がもとまらない\n",
    "a = 1/3\n",
    "A,B,C,D = symbols('A B C D')\n",
    "eq1 = A\n",
    "eq2 =  C \n",
    "eq3 = A*a + B - C*a  -D\n",
    "eq4 = A - C - 1\n",
    "solve([eq1,eq2,eq3,eq4],[A,B,C,D])\n",
    "\n",
    "b = 2/3\n",
    "A2,B2,C2,D2 = symbols('A2 B2 C2 D2')\n",
    "eq5 = A2\n",
    "eq6 =  C2\n",
    "eq7 = A2*b + B2 - C2*b  -D2\n",
    "eq8 = A2 - C2 - 1\n",
    "solve([eq5,eq6,eq7,eq8],[A2,B2,C2,D2])\n"
   ]
  },
  {
   "cell_type": "markdown",
   "metadata": {},
   "source": [
    "## 問題1-4-8\n",
    "\n",
    "差によって定義される点荷重$f(x)=δ(x-1/3)-δ(x-2/3)$は荷重の合計がゼロであり、$-u''=f(x)$は周期的境界条件の素でも解くことができる。まず特殊解を見つけ次に特殊解＋零空間解を求めよ\n",
    "\n",
    "\n",
    "### 解答\n",
    "点荷重が$f(x)=δ(x-1/3)-δ(x-2/3)$であることから$-u''=f(x)$は$R(x-a)$を傾斜関数として  \n",
    "特殊解は$R(x-1/3)＋R(x-2/3)$となる  \n",
    "零空間解を$Cx＋D$とすると  \n",
    "u(x)=$R(x-1/3)-R(x-2/3)+Cx+D$となる。\n",
    "固定端、自由端それぞれの条件を  \n",
    "u(0) = a  \n",
    "u(1) = b  \n",
    "u'(0) = a'  \n",
    "u'(1) = b'とする。  \n",
    "  \n",
    "  \n",
    "u(0) = D = a  \n",
    "u(1) = 1/3+C+D=b  \n",
    "u'(0)= C = a'  \n",
    "u'(1) = 1 + C = b'\n",
    "\n",
    "固定端-固定端  \n",
    "$C = b-a+1/3$  \n",
    "$D = a$  \n",
    "自由端-固定端  \n",
    "$c = a'$  \n",
    "$D = b-a'+1/3$  \n",
    "固定端-自由端  \n",
    "$C = b'-1$  \n",
    "$D = a$  \n",
    "自由端-自由端  \n",
    "$a'-b'=1$を満たす任意のCとD\n",
    "\n"
   ]
  },
  {
   "cell_type": "markdown",
   "metadata": {},
   "source": [
    "## 問題1-4-9\n",
    "\n",
    "分布荷重＄f(x) = 1＄は荷重$δ(x-a)$の全ての点＄x=a＄にあたる積分である。したがって、第1.3節での自由端-固定端の解$u(x) = 1/2(1-x^2)$は点荷重に対する解  \n",
    "($a<x$のとき$1-x,a>x$のとき$1-a$)の積分となっているはずである)\n",
    "\n",
    "$u(x)=\\int_{0}^{x}(1-x)da$+$\\int_{x}^{1}(1-a)da$= $1/2 - 1/2x^2$\n",
    "固定端-固定端の場合を確かめよ\n",
    "\n",
    "### 解答\n",
    "$u(x)=\\int_{0}^{x}(1-x)ada$+$\\int_{x}^{1}(1-a)xda= -1/2x^2+1/2x$\n",
    "となり１.2節の例と一致した\n"
   ]
  },
  {
   "cell_type": "markdown",
   "metadata": {},
   "source": [
    "## 問題 1-4-10\n",
    "\n",
    "\n",
    "$K^-1$の列を全て足すと、方程式$Ku = f$の解である離散版の放物線が得られる。このときfはどんなベクトルか？  \n",
    "図1.9の$K^-1$および図1.10の$T^-1$に対してこの足し算を実行せよ\n",
    "\n",
    "### 解答\n",
    "fは全要素が１であるようなベクトルである。\n"
   ]
  },
  {
   "cell_type": "code",
   "execution_count": null,
   "metadata": {
    "collapsed": true
   },
   "outputs": [],
   "source": [
    "n=15\n",
    "K_n  =toeplitz([2, -1]+[0]*(n-2))\n",
    "T_n = toeplitz([2, -1]+[0]*(n-2))\n",
    "T_n[0,0]=1\n",
    "inv_K_n = np.linalg.inv(K_n)\n",
    "inv_T_n = np.linalg.inv(T_n)\n",
    "sumK_n = np.sum(inv_K_n, axis=0)\n",
    "sumT_n = np.sum(inv_T_n, axis=0)\n",
    "print(sumK_n)\n",
    "print(sumT_n)\n",
    "plt.plot(sumK_n)\n",
    "plt.plot(sumT_n)\n",
    "\n",
    "# f = np.array([0,0,0,0,1,0,0,0,0,0,0,0,0,0,0])\n",
    "# uK = np.dot(inv_K_n,f)\n",
    "# print(uK)\n",
    "# plt.plot(uK)\n",
    "# uT = np.dot(inv_T_n,f)\n",
    "# print(uT)\n",
    "# plt.plot(uT)\n",
    "\n"
   ]
  },
  {
   "cell_type": "markdown",
   "metadata": {},
   "source": [
    "## 問題1-4-11\n",
    "\n",
    "$δ（x）$の積分は段階関数である$S（x）$である。$S（x）$の積分は傾斜関数$R（x）$である。次の２つの積分のグラフを描け。二次スプライン$Q（x）$及び三次スプライン$C（x）$.点$x＝０$においては$C（x）$の何次までの微分連続か？\n",
    "\n",
    "### 解答\n",
    "C（x）でのx＝０の点では３次まで微分可能である。\n",
    "\n",
    "n次スプライン補間が満たす条件\n",
    "関数f（x）の３次スプライン補間S（x）を考える  \n",
    "\n",
    "$j = 0,1,2,・・・・n-2$において  \n",
    "  \n",
    "１,$S(x_{j}) = f(x_{j})$  \n",
    "2,$S_{j+1}(x_{j+1}) = S_{j}(x_{j+1})$  \n",
    "3,$S_{j+1}'(x_{j+1}) = S_{j}'(x_{j+1})$  \n",
    "4,$S_{j+1}''(x_{j+1}) = S_{j}''(x_{j+1})$    \n",
    "  \n",
    "n+1,$S_{j+1}^{(n-1)}(x_{j+1}) = S_{j}^{(n-1)}(x_{j+1})$\n"
   ]
  },
  {
   "cell_type": "markdown",
   "metadata": {},
   "source": [
    "## 問題1-4-12\n",
    "\n",
    "三次スプライン$C(x)$は4階微分方程式$u''''=δ（x）$の解である.4個の任意定数をもつ完全解$u(x)$は何か？$u(1)=u''(1)=u(-1)=u''(-1)=0$が成り立つようなこれらの定数を定めよ.  \n",
    "これは点荷重の下で一様な単純支持梁のたわみを与える。\n",
    "\n",
    "### 解答\n",
    "\n",
    "$u(x)= a + bx + c/2x^2 + d/6x^3$  \n",
    "$u(1)=u''(1)=u(-1)=u''(-1)=0$より  \n",
    "$u(1) = a+b+c/2+d/6=0$  \n",
    "$u(-1) = a-b+c/2-d/6=0$  \n",
    "$u''(1) = d+c=0$  \n",
    "$u''(ー1) = d-c=0$  \n",
    "  \n",
    "以上より　　\n"
   ]
  },
  {
   "cell_type": "markdown",
   "metadata": {},
   "source": [
    "## 問題1-4-13\n",
    "\n",
    "デルタ関数$δ(x)$の特徴付けは次のとうりである。  \n",
    "任意のなめらかな関数g(x)に対して$\\int_{-∞}^{∞}δ(x)g(x)dx = g(0)$  \n",
    "これから,δ(x)の下の\"面積が１\"ということはどうやって導けるのか？  \n",
    "また$\\int δ(x-3)g(x)dx$はどうなるか？\n",
    "\n",
    "### 解答\n",
    "1,g(x)=1を上記の定義式に代入すると\n",
    "$\\int_{-∞}^{∞}δ(x)dx = g(0)　= 1$となる\n",
    "\n",
    "2,$\\int δ(x-3)g(x)dx=g(3)$"
   ]
  },
  {
   "cell_type": "markdown",
   "metadata": {},
   "source": [
    "## 問題1-4-14\n",
    "\n",
    "関数δ(x)は、次のような極めて背が高い方波形SWの”弱極限”である。  \n",
    "$SW(x) = \\frac{1}{2h}||x|<h)$とすると$\\int SW(x)g(x)dx→g(0) , (h→0)$  \n",
    "定数g(x) = 1および全ての$g(x) = x^n$に対して、$\\int SW(x)g(x)dx→g(0)$を示せ  \n",
    "ここで上記の規則は試験関数g(x)に依存するから\"弱\"という言葉を使った\n",
    "\n",
    "### 解答\n",
    "|x|<hの条件を使ってh→０の極限で積分解けばできます"
   ]
  },
  {
   "cell_type": "markdown",
   "metadata": {},
   "source": [
    "## 問題1-4-15\n",
    "\n",
    "δ(x)の微分はダブレットδ’（x）である.部分積分を用いて次の式を完成させよ.  \n",
    "なめらかなg(x)に対して$\\int^{∞}_{-∞} g(x)δ’（x）dx=\\int^{∞}_{-∞} (?)δ（x）dx = ?$\n",
    "\n",
    "\n",
    "### 解答\n",
    "部分積分を用いて  \n",
    "$\\int^{∞}_{-∞} g(x)δ’（x）dx = [g(x)δ(x)]^{∞}_{-∞}-\\int ^{∞}_{-∞}g'(x)δ(x)dx = -g'(0) $\n",
    "\n",
    "ダブレットδ'(x)任意の関数g(x)とともに積分するとx =0の微分値にマイナスをかけたものが出てくる"
   ]
  },
  {
   "cell_type": "markdown",
   "metadata": {},
   "source": [
    "## 問題1-4-16\n",
    "\n",
    "-u''-u = 0をu(0)=0としてx＝０から出発して解け.この時,任意定数Aが残る。  \n",
    "次に、この解においてxを1-xで置き換えることにより、u(1)=0を満たす-u''-u=0の解を求めよ\n",
    "この任意定数をBとする、点荷重をδ（x-1/2）として点x = 1/2での\"ジャンプの条件\"よりAとBを求めよ。  \n",
    "h=1/4,f=(0,4,0)として、差分方程式Ku=fを作って解け\n",
    "\n",
    "### 解答\n",
    "$-u''-u=0$より  \n",
    "$u(x) = -R(x)+Ax+B$  \n",
    "$u(0)=-R(0)+B=0,u(x) = -R(x)+Ax$  \n",
    "$u(1-x) = -R(1-x)+A(1-x)+B$\n",
    "$u(1)=-1+A+B=0,u(1-x) = -R(1-x)+(B-1)x+1$  \n",
    "$u(1/2)=-R(1/2)+1/2A=-R(1/2)+1/2(B-1) +1,A = B+1$  \n",
    "$u'(1/2)=-S(1/2)+A=-S(1/2)+(B-1),A=B-1$  "
   ]
  },
  {
   "cell_type": "code",
   "execution_count": null,
   "metadata": {
    "collapsed": true
   },
   "outputs": [],
   "source": []
  },
  {
   "cell_type": "code",
   "execution_count": null,
   "metadata": {
    "collapsed": true
   },
   "outputs": [],
   "source": []
  },
  {
   "cell_type": "code",
   "execution_count": null,
   "metadata": {
    "collapsed": true
   },
   "outputs": [],
   "source": []
  },
  {
   "cell_type": "code",
   "execution_count": null,
   "metadata": {
    "collapsed": true
   },
   "outputs": [],
   "source": []
  }
 ],
 "metadata": {
  "kernelspec": {
   "display_name": "Python 3",
   "language": "python",
   "name": "python3"
  },
  "language_info": {
   "codemirror_mode": {
    "name": "ipython",
    "version": 3
   },
   "file_extension": ".py",
   "mimetype": "text/x-python",
   "name": "python",
   "nbconvert_exporter": "python",
   "pygments_lexer": "ipython3",
   "version": "3.6.2"
  }
 },
 "nbformat": 4,
 "nbformat_minor": 2
}
